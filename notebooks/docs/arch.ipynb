{
 "cells": [
  {
   "cell_type": "markdown",
   "id": "e9713285-48ff-4bc0-97f6-17e30d30c5f7",
   "metadata": {},
   "source": [
    "# Model Library Architecture\n",
    "\n",
    "Return to [main](main.ipynb) docs.\n",
    "\n",
    "This document provides an overview of the key parts of the library - namely those used for configuration, data aggregation, and modeling execution.\n",
    "\n",
    "## Configuration\n",
    "\n",
    "Let's first take a look at how the library is configured.\n",
    "There are a number of challenges in managing all the potential configurations needed to drive a modeling application.\n",
    "These configurations fall outside the scope of any deployment configurations that may be necessary to run the application in a cloud environment.\n",
    "Instead these configurations aim to specify:\n",
    "* data: where external data comes from, how it is managed, and how it can be used in the models\n",
    "* models: parameters associated with model execution \n",
    "* scenario: what question is the end user of the model application trying to answer\n",
    "\n",
    "First, let's take a look at how configuration works within the library.\n",
    "There are two configurations modes for the application:\n",
    "1. default mode - specifies all of the baseline parameters, including those that are used to aggregate data. The default configuration uses a sample data set to drive the models.\n",
    "2. user input mode - allows users to over-ride defaults through an interactive interface\n",
    "\n",
    "\n",
    "Configuration space, which contains all the parameters necessary to run the models can be jointly configured with the default configurations and through the notebook interface by model application users.\n",
    "The diagram additionally outlines how the configuration space is used to configured the data client in the application (called the Data Space).\n",
    "The data space provides all the external data necessary to run the models such as school data, fiber data, and cellular data.\n",
    "\n",
    "## Models\n",
    "\n",
    "All modeling capabilities are defined within `giga/models`. The models are further broken down into the following categories:\n",
    "\n",
    "* Nodes: atomic, modular building blocks that contain a computation, transformation, or serve external data\n",
    "* Components: stacks nodes together with a clear and specific purpose (e.g. use case driven - compute cost of fiber connection) prepares the models to join into the entities that solve a specific problem\n",
    "* Scenarios: drives the computation by piecing together multiple components and solving a specific problem by deriving a key result. Allows same components to serve multiple purposes: e.g. answer the questions of what is the cost of connecting all schools in Rwanda to the internet? VS If there is a budget of $10M which schools should be connected to maximize the number of students with internet access?\n",
    "\n",
    "Model components are standardized in their interfaces and instantiation - a configuration space is needed to initialize a model component.\n",
    "While data and output spaces are needed to run a component.\n",
    "\n",
    "The execution of model components is managed by the scenario, which aims to use the model components to solve a specific user problem.\n",
    "\n",
    "A scenario manages how model components are orchestrated (e.g. order, dependencies, etc), and manages the outputs of individual components."
   ]
  }
 ],
 "metadata": {
  "kernelspec": {
   "display_name": "Python 3 (ipykernel)",
   "language": "python",
   "name": "python3"
  },
  "language_info": {
   "codemirror_mode": {
    "name": "ipython",
    "version": 3
   },
   "file_extension": ".py",
   "mimetype": "text/x-python",
   "name": "python",
   "nbconvert_exporter": "python",
   "pygments_lexer": "ipython3",
   "version": "3.8.5"
  }
 },
 "nbformat": 4,
 "nbformat_minor": 5
}
